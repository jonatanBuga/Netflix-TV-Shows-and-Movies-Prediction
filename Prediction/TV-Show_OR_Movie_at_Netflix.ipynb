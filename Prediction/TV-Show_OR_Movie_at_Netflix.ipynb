{
 "cells": [
  {
   "cell_type": "code",
   "execution_count": 107,
   "metadata": {},
   "outputs": [],
   "source": [
    "import pandas as pd\n",
    "import numpy as np\n",
    "from sklearn import tree\n",
    "import seaborn as sns\n",
    "from IPython.display import Image\n",
    "from statistics import mean\n",
    "from IPython.core.display import splitext\n",
    "import scipy.stats as stats\n",
    "from math import e\n",
    "import ast\n",
    "from sklearn.preprocessing import MinMaxScaler\n",
    "import matplotlib.pyplot as plt\n",
    "from sklearn.metrics import accuracy_score, confusion_matrix,precision_score,recall_score,f1_score,classification_report,ConfusionMatrixDisplay\n",
    "from sklearn.tree import DecisionTreeClassifier, plot_tree\n",
    "from sklearn.ensemble import RandomForestClassifier\n",
    "from sklearn.model_selection import train_test_split, GridSearchCV\n",
    "from sklearn.neighbors import KNeighborsClassifier \n",
    "import random\n",
    "from sklearn.cluster import KMeans\n",
    "df = pd.read_csv('titles.csv')"
   ]
  },
  {
   "attachments": {},
   "cell_type": "markdown",
   "metadata": {
    "tags": []
   },
   "source": [
    "Pre proccecing stage:"
   ]
  },
  {
   "cell_type": "code",
   "execution_count": 108,
   "metadata": {},
   "outputs": [
    {
     "data": {
      "text/html": [
       "<div>\n",
       "<style scoped>\n",
       "    .dataframe tbody tr th:only-of-type {\n",
       "        vertical-align: middle;\n",
       "    }\n",
       "\n",
       "    .dataframe tbody tr th {\n",
       "        vertical-align: top;\n",
       "    }\n",
       "\n",
       "    .dataframe thead th {\n",
       "        text-align: right;\n",
       "    }\n",
       "</style>\n",
       "<table border=\"1\" class=\"dataframe\">\n",
       "  <thead>\n",
       "    <tr style=\"text-align: right;\">\n",
       "      <th></th>\n",
       "      <th>type</th>\n",
       "      <th>release_year</th>\n",
       "      <th>runtime</th>\n",
       "      <th>genres</th>\n",
       "      <th>production_countries</th>\n",
       "      <th>imdb_score</th>\n",
       "      <th>imdb_votes</th>\n",
       "      <th>tmdb_popularity</th>\n",
       "      <th>tmdb_score</th>\n",
       "    </tr>\n",
       "  </thead>\n",
       "  <tbody>\n",
       "    <tr>\n",
       "      <th>0</th>\n",
       "      <td>SHOW</td>\n",
       "      <td>1945</td>\n",
       "      <td>51</td>\n",
       "      <td>1</td>\n",
       "      <td>1</td>\n",
       "      <td>6.510861</td>\n",
       "      <td>23439.382474</td>\n",
       "      <td>0.600000</td>\n",
       "      <td>6.829175</td>\n",
       "    </tr>\n",
       "    <tr>\n",
       "      <th>1</th>\n",
       "      <td>MOVIE</td>\n",
       "      <td>1976</td>\n",
       "      <td>114</td>\n",
       "      <td>2</td>\n",
       "      <td>1</td>\n",
       "      <td>8.200000</td>\n",
       "      <td>808582.000000</td>\n",
       "      <td>40.965000</td>\n",
       "      <td>8.179000</td>\n",
       "    </tr>\n",
       "    <tr>\n",
       "      <th>2</th>\n",
       "      <td>MOVIE</td>\n",
       "      <td>1972</td>\n",
       "      <td>109</td>\n",
       "      <td>4</td>\n",
       "      <td>1</td>\n",
       "      <td>7.700000</td>\n",
       "      <td>107673.000000</td>\n",
       "      <td>10.010000</td>\n",
       "      <td>7.300000</td>\n",
       "    </tr>\n",
       "    <tr>\n",
       "      <th>3</th>\n",
       "      <td>MOVIE</td>\n",
       "      <td>1975</td>\n",
       "      <td>91</td>\n",
       "      <td>3</td>\n",
       "      <td>1</td>\n",
       "      <td>8.200000</td>\n",
       "      <td>534486.000000</td>\n",
       "      <td>15.461000</td>\n",
       "      <td>7.811000</td>\n",
       "    </tr>\n",
       "    <tr>\n",
       "      <th>4</th>\n",
       "      <td>MOVIE</td>\n",
       "      <td>1967</td>\n",
       "      <td>150</td>\n",
       "      <td>2</td>\n",
       "      <td>2</td>\n",
       "      <td>7.700000</td>\n",
       "      <td>72662.000000</td>\n",
       "      <td>20.398000</td>\n",
       "      <td>7.600000</td>\n",
       "    </tr>\n",
       "    <tr>\n",
       "      <th>...</th>\n",
       "      <td>...</td>\n",
       "      <td>...</td>\n",
       "      <td>...</td>\n",
       "      <td>...</td>\n",
       "      <td>...</td>\n",
       "      <td>...</td>\n",
       "      <td>...</td>\n",
       "      <td>...</td>\n",
       "      <td>...</td>\n",
       "    </tr>\n",
       "    <tr>\n",
       "      <th>5845</th>\n",
       "      <td>MOVIE</td>\n",
       "      <td>2021</td>\n",
       "      <td>100</td>\n",
       "      <td>2</td>\n",
       "      <td>1</td>\n",
       "      <td>6.800000</td>\n",
       "      <td>45.000000</td>\n",
       "      <td>1.466000</td>\n",
       "      <td>6.829175</td>\n",
       "    </tr>\n",
       "    <tr>\n",
       "      <th>5846</th>\n",
       "      <td>MOVIE</td>\n",
       "      <td>2021</td>\n",
       "      <td>134</td>\n",
       "      <td>1</td>\n",
       "      <td>1</td>\n",
       "      <td>7.700000</td>\n",
       "      <td>348.000000</td>\n",
       "      <td>22.637925</td>\n",
       "      <td>6.829175</td>\n",
       "    </tr>\n",
       "    <tr>\n",
       "      <th>5847</th>\n",
       "      <td>MOVIE</td>\n",
       "      <td>2021</td>\n",
       "      <td>90</td>\n",
       "      <td>1</td>\n",
       "      <td>1</td>\n",
       "      <td>3.800000</td>\n",
       "      <td>68.000000</td>\n",
       "      <td>26.005000</td>\n",
       "      <td>6.300000</td>\n",
       "    </tr>\n",
       "    <tr>\n",
       "      <th>5848</th>\n",
       "      <td>MOVIE</td>\n",
       "      <td>2021</td>\n",
       "      <td>37</td>\n",
       "      <td>1</td>\n",
       "      <td>1</td>\n",
       "      <td>6.510861</td>\n",
       "      <td>23439.382474</td>\n",
       "      <td>1.296000</td>\n",
       "      <td>10.000000</td>\n",
       "    </tr>\n",
       "    <tr>\n",
       "      <th>5849</th>\n",
       "      <td>SHOW</td>\n",
       "      <td>2021</td>\n",
       "      <td>7</td>\n",
       "      <td>3</td>\n",
       "      <td>1</td>\n",
       "      <td>7.800000</td>\n",
       "      <td>18.000000</td>\n",
       "      <td>2.289000</td>\n",
       "      <td>10.000000</td>\n",
       "    </tr>\n",
       "  </tbody>\n",
       "</table>\n",
       "<p>5850 rows × 9 columns</p>\n",
       "</div>"
      ],
      "text/plain": [
       "       type  release_year  runtime  genres  production_countries  imdb_score   \n",
       "0      SHOW          1945       51       1                     1    6.510861  \\\n",
       "1     MOVIE          1976      114       2                     1    8.200000   \n",
       "2     MOVIE          1972      109       4                     1    7.700000   \n",
       "3     MOVIE          1975       91       3                     1    8.200000   \n",
       "4     MOVIE          1967      150       2                     2    7.700000   \n",
       "...     ...           ...      ...     ...                   ...         ...   \n",
       "5845  MOVIE          2021      100       2                     1    6.800000   \n",
       "5846  MOVIE          2021      134       1                     1    7.700000   \n",
       "5847  MOVIE          2021       90       1                     1    3.800000   \n",
       "5848  MOVIE          2021       37       1                     1    6.510861   \n",
       "5849   SHOW          2021        7       3                     1    7.800000   \n",
       "\n",
       "         imdb_votes  tmdb_popularity  tmdb_score  \n",
       "0      23439.382474         0.600000    6.829175  \n",
       "1     808582.000000        40.965000    8.179000  \n",
       "2     107673.000000        10.010000    7.300000  \n",
       "3     534486.000000        15.461000    7.811000  \n",
       "4      72662.000000        20.398000    7.600000  \n",
       "...             ...              ...         ...  \n",
       "5845      45.000000         1.466000    6.829175  \n",
       "5846     348.000000        22.637925    6.829175  \n",
       "5847      68.000000        26.005000    6.300000  \n",
       "5848   23439.382474         1.296000   10.000000  \n",
       "5849      18.000000         2.289000   10.000000  \n",
       "\n",
       "[5850 rows x 9 columns]"
      ]
     },
     "execution_count": 108,
     "metadata": {},
     "output_type": "execute_result"
    }
   ],
   "source": [
    "#fill NaN values in 0 value\n",
    "\n",
    "#fill NaN values in mean for each colom\n",
    "df['imdb_score'].fillna(np.mean(df['imdb_score']),inplace=True)\n",
    "df['imdb_votes'].fillna(np.mean(df['imdb_votes']),inplace=True)\n",
    "df['tmdb_popularity'].fillna(np.mean(df['tmdb_popularity']),inplace=True)\n",
    "df['tmdb_score'].fillna(np.mean(df['tmdb_score']),inplace=True)\n",
    "\n",
    "#drop coloms\n",
    "df.drop(\"id\",axis=1,inplace=True)\n",
    "df.drop(\"imdb_id\",axis=1,inplace=True)\n",
    "df.drop(\"age_certification\",axis=1,inplace=True)\n",
    "df.drop(\"title\",axis=1,inplace=True)\n",
    "df.drop(\"description\",axis=1,inplace=True)\n",
    "df.drop('seasons',axis=1,inplace=True)\n",
    "# df.drop('production_countries',axis=1,inplace=True)\n",
    "#change value of genres and production_countries\n",
    "def num_of_element(column_name):\n",
    "    dic_for_column ={}\n",
    "    i=0\n",
    "    count=0\n",
    "    for arr in df[column_name]:\n",
    "        dic_for_column[i] = arr.count(',') +1\n",
    "        i+=1\n",
    "    column_array = []\n",
    "    for val in dic_for_column.values():\n",
    "        column_array.append(val)\n",
    "    return column_array\n",
    "genres_dict ={\n",
    "    \"documentation\":1,\n",
    "    \"drama\":2,\n",
    "    \"crime\":3,\n",
    "    \"action\":4,\n",
    "    \"thriller\":5,\n",
    "    \"european\":6,\n",
    "    \"fantasy\":7,\n",
    "    \"action\":8,\n",
    "    \"comedy\":9,\n",
    "    \"war\":10,\n",
    "    \"romance\":11,\n",
    "    \"western\":12,\n",
    "    \"history\":13,\n",
    "    \"music\":14,\n",
    "    \"family\":15,\n",
    "    \"horror\":16,\n",
    "    \"scifi\":17,\n",
    "    \"animation\":18,\n",
    "}\n",
    "\n",
    "df['genres'] = np.array(num_of_element('genres'))\n",
    "df['production_countries'] = np.array(num_of_element('production_countries'))\n",
    "df"
   ]
  },
  {
   "cell_type": "code",
   "execution_count": 109,
   "metadata": {},
   "outputs": [],
   "source": [
    "# def createArrOfGeners(df):\n",
    "#   new_col=[]\n",
    "#   for i in df[\"genres\"]:\n",
    "#     new_col.append(i)\n",
    "#   return new_col\n",
    "\n",
    "# flattened_array = list(set(word for sublist in createArrOfGeners(df) for word in ast.literal_eval(sublist)))\n",
    "\n",
    "\n",
    "# dictionary = {index: value for index, value in enumerate(flattened_array)}\n",
    "# print(dictionary)"
   ]
  },
  {
   "attachments": {},
   "cell_type": "markdown",
   "metadata": {},
   "source": [
    "Function for Pre-Proccecing"
   ]
  },
  {
   "cell_type": "code",
   "execution_count": 110,
   "metadata": {},
   "outputs": [],
   "source": [
    "\n",
    "\n",
    "def z_score(arr):\n",
    "  myarray=np.array(arr)\n",
    "  newarr = stats.zscore(myarray)\n",
    "  return newarr\n",
    "\n",
    "def equifreq(arr1, m):    \n",
    "    a = len(arr1)\n",
    "    n = int(a / m)\n",
    "    freqArr ={}\n",
    "    for i in range(m):\n",
    "        arr = []\n",
    "        for j in range(i * n, (i + 1) * n):\n",
    "            if j >= a:\n",
    "                break\n",
    "            arr = arr + [arr1[j]]\n",
    "        freqArr[str(i)] = arr\n",
    "    return freqArr\n",
    "\n",
    "def bin_boundaries(np_array): \n",
    "  minVal = min(np_array)\n",
    "  maxVal = max(np_array)\n",
    "\n",
    "  dist_to_min = np.abs(np_array - minVal)\n",
    "  dist_to_max = np.abs(np_array - maxVal)\n",
    "  \n",
    "  return np.where(dist_to_min < dist_to_max, minVal, maxVal)\n",
    "def createArrOfGeners(df):\n",
    "  new_col=[]\n",
    "  for i in df[\"genres\"]:\n",
    "    new_col.append(i)\n",
    "  return new_col\n",
    "def minmax(List):\n",
    "  scaler = MinMaxScaler()\n",
    "  col1 = scaler.fit_transform(List)\n",
    "  newcol1 = np.array(col1)\n",
    "  return newcol1\n",
    "def pandas_entropy(column, base):\n",
    "    vc = pd.Series(column).value_counts(normalize=True, sort=False)\n",
    "    return -(vc * np.log(vc)/np.log(base)).sum()\n",
    "\n",
    "   "
   ]
  },
  {
   "attachments": {},
   "cell_type": "markdown",
   "metadata": {},
   "source": [
    "find entropy for each column:"
   ]
  },
  {
   "cell_type": "code",
   "execution_count": 111,
   "metadata": {},
   "outputs": [
    {
     "name": "stdout",
     "output_type": "stream",
     "text": [
      "entropy for column:release_year is :3.8936276337969895\n",
      "entropy for column:runtime is :7.071896434024163\n",
      "entropy for column:genres is :2.372582407795767\n",
      "entropy for column:production_countries is :0.6302177989639034\n",
      "entropy for column:imdb_score is :5.482683412907622\n",
      "entropy for column:imdb_votes is :11.118435199375979\n",
      "entropy for column:tmdb_popularity is :12.022315894057535\n",
      "entropy for column:tmdb_score is :5.925060387419471\n"
     ]
    }
   ],
   "source": [
    "for val in df.columns[1:]:\n",
    "    print(f'entropy for column:{val} is :{pandas_entropy(df[val],2)}')"
   ]
  },
  {
   "attachments": {},
   "cell_type": "markdown",
   "metadata": {},
   "source": [
    "best acurecy of DecisionTree on Random Forest"
   ]
  },
  {
   "cell_type": "code",
   "execution_count": 112,
   "metadata": {},
   "outputs": [],
   "source": [
    "# scaler = MinMaxScaler()\n",
    "# df2=df\n",
    "# df2['production_countries'] = scaler.fit_transform(df2[['production_countries']])\n",
    "# df2['imdb_score'] =scaler.fit_transform(df2[['imdb_score']])\n",
    "\n",
    "# df2['genres'] = z_score(df2['genres'])\n",
    "# df2['tmdb_popularity'] = z_score(df2['tmdb_popularity'])\n",
    "# df2['tmdb_score'] =z_score(df2['tmdb_score'])\n",
    "\n",
    "# max_tmdb_pop = str(int(df2['runtime'].max()))\n",
    "# df2['runtime'] = df2['runtime']/(10**len(max_tmdb_pop))\n",
    "\n",
    "\n",
    "# sorted_third_column = np.sort(df2['release_year'])\n",
    "# bins = np.array_split(sorted_third_column, 4)\n",
    "# sorted_third_column = [bin_boundaries(bin) for bin in bins]\n",
    "# con = np.concatenate((sorted_third_column[0], sorted_third_column[1],sorted_third_column[2],sorted_third_column[3]))\n",
    "# df2['release_year'] =con\n",
    "\n",
    "# sorted_third_column1 = np.sort(df['imdb_votes'])\n",
    "# bins1 = np.array_split(sorted_third_column1, 4)\n",
    "# sorted_third_column1 = [bin_boundaries(bin) for bin in bins1]\n",
    "# con1 = np.concatenate((sorted_third_column1[0], sorted_third_column1[1],sorted_third_column1[2],sorted_third_column1[3]))\n",
    "# df2['imdb_votes'] =con1\n",
    "# df2\n",
    "\n"
   ]
  },
  {
   "attachments": {},
   "cell_type": "markdown",
   "metadata": {},
   "source": [
    "Conclusion As soon as we put the best normalization from the decision tree model, in random forest we got an improvement in the model of 0.01%"
   ]
  },
  {
   "attachments": {},
   "cell_type": "markdown",
   "metadata": {},
   "source": [
    "The normalization step, and changing the column values"
   ]
  },
  {
   "cell_type": "code",
   "execution_count": 113,
   "metadata": {},
   "outputs": [
    {
     "name": "stdout",
     "output_type": "stream",
     "text": [
      "column :release_year was update by MINMAXSCALAR\n",
      "column :runtime was update by decimal scaling\n",
      "column :genres was update by bin-boindaries\n",
      "column :production_countries was update by z-score\n",
      "column :imdb_score was update by bin-boindaries\n",
      "column :imdb_votes was update by bin-boindaries\n",
      "column :tmdb_popularity was update by z-score\n",
      "column :tmdb_score was update by bin-boindaries\n"
     ]
    }
   ],
   "source": [
    "#apply function for each column\n",
    "\n",
    "#test1\n",
    "\n",
    "def random_normalization(column_name):\n",
    "    chooise = random.randint(1,4)\n",
    "    match chooise:\n",
    "        case 1:#MINMAXSCALAR\n",
    "            scaler = MinMaxScaler()\n",
    "            df[column_name] = scaler.fit_transform(df[[column_name]])\n",
    "            print(f'column :{column_name} was update by MINMAXSCALAR')\n",
    "        case 2:#z-score\n",
    "            df[column_name] = z_score(df[column_name])\n",
    "            print(f'column :{column_name} was update by z-score')\n",
    "        case 3:#bin-boindaries\n",
    "            sorted_third_column = np.sort(df[column_name])\n",
    "            bins = np.array_split(sorted_third_column, 4)\n",
    "            sorted_third_column = [bin_boundaries(bin) for bin in bins]\n",
    "            con = np.concatenate((sorted_third_column[0], sorted_third_column[1],sorted_third_column[2],sorted_third_column[3]))\n",
    "            df[column_name] =con\n",
    "            print(f'column :{column_name} was update by bin-boindaries')\n",
    "        case 4:#decimal scaling\n",
    "            max_tmdb_pop = str(int(df[column_name].max()))\n",
    "            df[column_name] = df[column_name]/(10**len(max_tmdb_pop))\n",
    "            print(f'column :{column_name} was update by decimal scaling')\n",
    "\n",
    "\n",
    "for valus in df.columns[1:]:\n",
    "    random_normalization(valus)\n",
    "\n",
    "    \n",
    "\n"
   ]
  },
  {
   "cell_type": "code",
   "execution_count": 114,
   "metadata": {},
   "outputs": [
    {
     "data": {
      "text/html": [
       "<div>\n",
       "<style scoped>\n",
       "    .dataframe tbody tr th:only-of-type {\n",
       "        vertical-align: middle;\n",
       "    }\n",
       "\n",
       "    .dataframe tbody tr th {\n",
       "        vertical-align: top;\n",
       "    }\n",
       "\n",
       "    .dataframe thead th {\n",
       "        text-align: right;\n",
       "    }\n",
       "</style>\n",
       "<table border=\"1\" class=\"dataframe\">\n",
       "  <thead>\n",
       "    <tr style=\"text-align: right;\">\n",
       "      <th></th>\n",
       "      <th>type</th>\n",
       "      <th>release_year</th>\n",
       "      <th>runtime</th>\n",
       "      <th>genres</th>\n",
       "      <th>production_countries</th>\n",
       "      <th>imdb_score</th>\n",
       "      <th>imdb_votes</th>\n",
       "      <th>tmdb_popularity</th>\n",
       "      <th>tmdb_score</th>\n",
       "    </tr>\n",
       "  </thead>\n",
       "  <tbody>\n",
       "    <tr>\n",
       "      <th>0</th>\n",
       "      <td>SHOW</td>\n",
       "      <td>0.000000</td>\n",
       "      <td>0.051</td>\n",
       "      <td>1</td>\n",
       "      <td>-0.296613</td>\n",
       "      <td>1.5</td>\n",
       "      <td>5.0</td>\n",
       "      <td>-0.271954</td>\n",
       "      <td>0.5</td>\n",
       "    </tr>\n",
       "    <tr>\n",
       "      <th>1</th>\n",
       "      <td>MOVIE</td>\n",
       "      <td>0.402597</td>\n",
       "      <td>0.114</td>\n",
       "      <td>1</td>\n",
       "      <td>-0.296613</td>\n",
       "      <td>1.5</td>\n",
       "      <td>5.0</td>\n",
       "      <td>0.226161</td>\n",
       "      <td>0.5</td>\n",
       "    </tr>\n",
       "    <tr>\n",
       "      <th>2</th>\n",
       "      <td>MOVIE</td>\n",
       "      <td>0.350649</td>\n",
       "      <td>0.109</td>\n",
       "      <td>1</td>\n",
       "      <td>-0.296613</td>\n",
       "      <td>1.5</td>\n",
       "      <td>5.0</td>\n",
       "      <td>-0.155832</td>\n",
       "      <td>0.5</td>\n",
       "    </tr>\n",
       "    <tr>\n",
       "      <th>3</th>\n",
       "      <td>MOVIE</td>\n",
       "      <td>0.389610</td>\n",
       "      <td>0.091</td>\n",
       "      <td>1</td>\n",
       "      <td>-0.296613</td>\n",
       "      <td>1.5</td>\n",
       "      <td>5.0</td>\n",
       "      <td>-0.088565</td>\n",
       "      <td>0.5</td>\n",
       "    </tr>\n",
       "    <tr>\n",
       "      <th>4</th>\n",
       "      <td>MOVIE</td>\n",
       "      <td>0.285714</td>\n",
       "      <td>0.150</td>\n",
       "      <td>1</td>\n",
       "      <td>1.616491</td>\n",
       "      <td>1.5</td>\n",
       "      <td>5.0</td>\n",
       "      <td>-0.027641</td>\n",
       "      <td>0.5</td>\n",
       "    </tr>\n",
       "    <tr>\n",
       "      <th>...</th>\n",
       "      <td>...</td>\n",
       "      <td>...</td>\n",
       "      <td>...</td>\n",
       "      <td>...</td>\n",
       "      <td>...</td>\n",
       "      <td>...</td>\n",
       "      <td>...</td>\n",
       "      <td>...</td>\n",
       "      <td>...</td>\n",
       "    </tr>\n",
       "    <tr>\n",
       "      <th>5845</th>\n",
       "      <td>MOVIE</td>\n",
       "      <td>0.987013</td>\n",
       "      <td>0.100</td>\n",
       "      <td>10</td>\n",
       "      <td>-0.296613</td>\n",
       "      <td>9.6</td>\n",
       "      <td>2294231.0</td>\n",
       "      <td>-0.261267</td>\n",
       "      <td>10.0</td>\n",
       "    </tr>\n",
       "    <tr>\n",
       "      <th>5846</th>\n",
       "      <td>MOVIE</td>\n",
       "      <td>0.987013</td>\n",
       "      <td>0.134</td>\n",
       "      <td>10</td>\n",
       "      <td>-0.296613</td>\n",
       "      <td>9.6</td>\n",
       "      <td>2294231.0</td>\n",
       "      <td>0.000000</td>\n",
       "      <td>10.0</td>\n",
       "    </tr>\n",
       "    <tr>\n",
       "      <th>5847</th>\n",
       "      <td>MOVIE</td>\n",
       "      <td>0.987013</td>\n",
       "      <td>0.090</td>\n",
       "      <td>10</td>\n",
       "      <td>-0.296613</td>\n",
       "      <td>9.6</td>\n",
       "      <td>2294231.0</td>\n",
       "      <td>0.041551</td>\n",
       "      <td>10.0</td>\n",
       "    </tr>\n",
       "    <tr>\n",
       "      <th>5848</th>\n",
       "      <td>MOVIE</td>\n",
       "      <td>0.987013</td>\n",
       "      <td>0.037</td>\n",
       "      <td>10</td>\n",
       "      <td>-0.296613</td>\n",
       "      <td>9.6</td>\n",
       "      <td>2294231.0</td>\n",
       "      <td>-0.263365</td>\n",
       "      <td>10.0</td>\n",
       "    </tr>\n",
       "    <tr>\n",
       "      <th>5849</th>\n",
       "      <td>SHOW</td>\n",
       "      <td>0.987013</td>\n",
       "      <td>0.007</td>\n",
       "      <td>10</td>\n",
       "      <td>-0.296613</td>\n",
       "      <td>9.6</td>\n",
       "      <td>2294231.0</td>\n",
       "      <td>-0.251111</td>\n",
       "      <td>10.0</td>\n",
       "    </tr>\n",
       "  </tbody>\n",
       "</table>\n",
       "<p>5850 rows × 9 columns</p>\n",
       "</div>"
      ],
      "text/plain": [
       "       type  release_year  runtime  genres  production_countries  imdb_score   \n",
       "0      SHOW      0.000000    0.051       1             -0.296613         1.5  \\\n",
       "1     MOVIE      0.402597    0.114       1             -0.296613         1.5   \n",
       "2     MOVIE      0.350649    0.109       1             -0.296613         1.5   \n",
       "3     MOVIE      0.389610    0.091       1             -0.296613         1.5   \n",
       "4     MOVIE      0.285714    0.150       1              1.616491         1.5   \n",
       "...     ...           ...      ...     ...                   ...         ...   \n",
       "5845  MOVIE      0.987013    0.100      10             -0.296613         9.6   \n",
       "5846  MOVIE      0.987013    0.134      10             -0.296613         9.6   \n",
       "5847  MOVIE      0.987013    0.090      10             -0.296613         9.6   \n",
       "5848  MOVIE      0.987013    0.037      10             -0.296613         9.6   \n",
       "5849   SHOW      0.987013    0.007      10             -0.296613         9.6   \n",
       "\n",
       "      imdb_votes  tmdb_popularity  tmdb_score  \n",
       "0            5.0        -0.271954         0.5  \n",
       "1            5.0         0.226161         0.5  \n",
       "2            5.0        -0.155832         0.5  \n",
       "3            5.0        -0.088565         0.5  \n",
       "4            5.0        -0.027641         0.5  \n",
       "...          ...              ...         ...  \n",
       "5845   2294231.0        -0.261267        10.0  \n",
       "5846   2294231.0         0.000000        10.0  \n",
       "5847   2294231.0         0.041551        10.0  \n",
       "5848   2294231.0        -0.263365        10.0  \n",
       "5849   2294231.0        -0.251111        10.0  \n",
       "\n",
       "[5850 rows x 9 columns]"
      ]
     },
     "execution_count": 114,
     "metadata": {},
     "output_type": "execute_result"
    }
   ],
   "source": [
    "df"
   ]
  },
  {
   "attachments": {},
   "cell_type": "markdown",
   "metadata": {},
   "source": [
    "split the data to train test"
   ]
  },
  {
   "cell_type": "code",
   "execution_count": 115,
   "metadata": {},
   "outputs": [],
   "source": [
    "\n",
    "X = df.iloc[:,1:]\n",
    "Y = df.iloc[:,:1]\n",
    "class_names = ['MOVIE','SHOW']\n",
    "X_train, X_test, y_train, y_test = train_test_split(X, Y, test_size=0.2,random_state=42)\n"
   ]
  },
  {
   "cell_type": "code",
   "execution_count": 116,
   "metadata": {},
   "outputs": [
    {
     "data": {
      "text/html": [
       "<div>\n",
       "<style scoped>\n",
       "    .dataframe tbody tr th:only-of-type {\n",
       "        vertical-align: middle;\n",
       "    }\n",
       "\n",
       "    .dataframe tbody tr th {\n",
       "        vertical-align: top;\n",
       "    }\n",
       "\n",
       "    .dataframe thead th {\n",
       "        text-align: right;\n",
       "    }\n",
       "</style>\n",
       "<table border=\"1\" class=\"dataframe\">\n",
       "  <thead>\n",
       "    <tr style=\"text-align: right;\">\n",
       "      <th></th>\n",
       "      <th>release_year</th>\n",
       "      <th>runtime</th>\n",
       "      <th>genres</th>\n",
       "      <th>production_countries</th>\n",
       "      <th>imdb_score</th>\n",
       "      <th>imdb_votes</th>\n",
       "      <th>tmdb_popularity</th>\n",
       "      <th>tmdb_score</th>\n",
       "    </tr>\n",
       "  </thead>\n",
       "  <tbody>\n",
       "    <tr>\n",
       "      <th>0</th>\n",
       "      <td>0.000000</td>\n",
       "      <td>0.051</td>\n",
       "      <td>1</td>\n",
       "      <td>-0.296613</td>\n",
       "      <td>1.5</td>\n",
       "      <td>5.0</td>\n",
       "      <td>-0.271954</td>\n",
       "      <td>0.5</td>\n",
       "    </tr>\n",
       "    <tr>\n",
       "      <th>1</th>\n",
       "      <td>0.402597</td>\n",
       "      <td>0.114</td>\n",
       "      <td>1</td>\n",
       "      <td>-0.296613</td>\n",
       "      <td>1.5</td>\n",
       "      <td>5.0</td>\n",
       "      <td>0.226161</td>\n",
       "      <td>0.5</td>\n",
       "    </tr>\n",
       "    <tr>\n",
       "      <th>2</th>\n",
       "      <td>0.350649</td>\n",
       "      <td>0.109</td>\n",
       "      <td>1</td>\n",
       "      <td>-0.296613</td>\n",
       "      <td>1.5</td>\n",
       "      <td>5.0</td>\n",
       "      <td>-0.155832</td>\n",
       "      <td>0.5</td>\n",
       "    </tr>\n",
       "    <tr>\n",
       "      <th>3</th>\n",
       "      <td>0.389610</td>\n",
       "      <td>0.091</td>\n",
       "      <td>1</td>\n",
       "      <td>-0.296613</td>\n",
       "      <td>1.5</td>\n",
       "      <td>5.0</td>\n",
       "      <td>-0.088565</td>\n",
       "      <td>0.5</td>\n",
       "    </tr>\n",
       "    <tr>\n",
       "      <th>4</th>\n",
       "      <td>0.285714</td>\n",
       "      <td>0.150</td>\n",
       "      <td>1</td>\n",
       "      <td>1.616491</td>\n",
       "      <td>1.5</td>\n",
       "      <td>5.0</td>\n",
       "      <td>-0.027641</td>\n",
       "      <td>0.5</td>\n",
       "    </tr>\n",
       "    <tr>\n",
       "      <th>...</th>\n",
       "      <td>...</td>\n",
       "      <td>...</td>\n",
       "      <td>...</td>\n",
       "      <td>...</td>\n",
       "      <td>...</td>\n",
       "      <td>...</td>\n",
       "      <td>...</td>\n",
       "      <td>...</td>\n",
       "    </tr>\n",
       "    <tr>\n",
       "      <th>5845</th>\n",
       "      <td>0.987013</td>\n",
       "      <td>0.100</td>\n",
       "      <td>10</td>\n",
       "      <td>-0.296613</td>\n",
       "      <td>9.6</td>\n",
       "      <td>2294231.0</td>\n",
       "      <td>-0.261267</td>\n",
       "      <td>10.0</td>\n",
       "    </tr>\n",
       "    <tr>\n",
       "      <th>5846</th>\n",
       "      <td>0.987013</td>\n",
       "      <td>0.134</td>\n",
       "      <td>10</td>\n",
       "      <td>-0.296613</td>\n",
       "      <td>9.6</td>\n",
       "      <td>2294231.0</td>\n",
       "      <td>0.000000</td>\n",
       "      <td>10.0</td>\n",
       "    </tr>\n",
       "    <tr>\n",
       "      <th>5847</th>\n",
       "      <td>0.987013</td>\n",
       "      <td>0.090</td>\n",
       "      <td>10</td>\n",
       "      <td>-0.296613</td>\n",
       "      <td>9.6</td>\n",
       "      <td>2294231.0</td>\n",
       "      <td>0.041551</td>\n",
       "      <td>10.0</td>\n",
       "    </tr>\n",
       "    <tr>\n",
       "      <th>5848</th>\n",
       "      <td>0.987013</td>\n",
       "      <td>0.037</td>\n",
       "      <td>10</td>\n",
       "      <td>-0.296613</td>\n",
       "      <td>9.6</td>\n",
       "      <td>2294231.0</td>\n",
       "      <td>-0.263365</td>\n",
       "      <td>10.0</td>\n",
       "    </tr>\n",
       "    <tr>\n",
       "      <th>5849</th>\n",
       "      <td>0.987013</td>\n",
       "      <td>0.007</td>\n",
       "      <td>10</td>\n",
       "      <td>-0.296613</td>\n",
       "      <td>9.6</td>\n",
       "      <td>2294231.0</td>\n",
       "      <td>-0.251111</td>\n",
       "      <td>10.0</td>\n",
       "    </tr>\n",
       "  </tbody>\n",
       "</table>\n",
       "<p>5850 rows × 8 columns</p>\n",
       "</div>"
      ],
      "text/plain": [
       "      release_year  runtime  genres  production_countries  imdb_score   \n",
       "0         0.000000    0.051       1             -0.296613         1.5  \\\n",
       "1         0.402597    0.114       1             -0.296613         1.5   \n",
       "2         0.350649    0.109       1             -0.296613         1.5   \n",
       "3         0.389610    0.091       1             -0.296613         1.5   \n",
       "4         0.285714    0.150       1              1.616491         1.5   \n",
       "...            ...      ...     ...                   ...         ...   \n",
       "5845      0.987013    0.100      10             -0.296613         9.6   \n",
       "5846      0.987013    0.134      10             -0.296613         9.6   \n",
       "5847      0.987013    0.090      10             -0.296613         9.6   \n",
       "5848      0.987013    0.037      10             -0.296613         9.6   \n",
       "5849      0.987013    0.007      10             -0.296613         9.6   \n",
       "\n",
       "      imdb_votes  tmdb_popularity  tmdb_score  \n",
       "0            5.0        -0.271954         0.5  \n",
       "1            5.0         0.226161         0.5  \n",
       "2            5.0        -0.155832         0.5  \n",
       "3            5.0        -0.088565         0.5  \n",
       "4            5.0        -0.027641         0.5  \n",
       "...          ...              ...         ...  \n",
       "5845   2294231.0        -0.261267        10.0  \n",
       "5846   2294231.0         0.000000        10.0  \n",
       "5847   2294231.0         0.041551        10.0  \n",
       "5848   2294231.0        -0.263365        10.0  \n",
       "5849   2294231.0        -0.251111        10.0  \n",
       "\n",
       "[5850 rows x 8 columns]"
      ]
     },
     "execution_count": 116,
     "metadata": {},
     "output_type": "execute_result"
    }
   ],
   "source": [
    "X"
   ]
  },
  {
   "cell_type": "code",
   "execution_count": 117,
   "metadata": {},
   "outputs": [
    {
     "data": {
      "text/html": [
       "<div>\n",
       "<style scoped>\n",
       "    .dataframe tbody tr th:only-of-type {\n",
       "        vertical-align: middle;\n",
       "    }\n",
       "\n",
       "    .dataframe tbody tr th {\n",
       "        vertical-align: top;\n",
       "    }\n",
       "\n",
       "    .dataframe thead th {\n",
       "        text-align: right;\n",
       "    }\n",
       "</style>\n",
       "<table border=\"1\" class=\"dataframe\">\n",
       "  <thead>\n",
       "    <tr style=\"text-align: right;\">\n",
       "      <th></th>\n",
       "      <th>type</th>\n",
       "    </tr>\n",
       "  </thead>\n",
       "  <tbody>\n",
       "    <tr>\n",
       "      <th>0</th>\n",
       "      <td>SHOW</td>\n",
       "    </tr>\n",
       "    <tr>\n",
       "      <th>1</th>\n",
       "      <td>MOVIE</td>\n",
       "    </tr>\n",
       "    <tr>\n",
       "      <th>2</th>\n",
       "      <td>MOVIE</td>\n",
       "    </tr>\n",
       "    <tr>\n",
       "      <th>3</th>\n",
       "      <td>MOVIE</td>\n",
       "    </tr>\n",
       "    <tr>\n",
       "      <th>4</th>\n",
       "      <td>MOVIE</td>\n",
       "    </tr>\n",
       "    <tr>\n",
       "      <th>...</th>\n",
       "      <td>...</td>\n",
       "    </tr>\n",
       "    <tr>\n",
       "      <th>5845</th>\n",
       "      <td>MOVIE</td>\n",
       "    </tr>\n",
       "    <tr>\n",
       "      <th>5846</th>\n",
       "      <td>MOVIE</td>\n",
       "    </tr>\n",
       "    <tr>\n",
       "      <th>5847</th>\n",
       "      <td>MOVIE</td>\n",
       "    </tr>\n",
       "    <tr>\n",
       "      <th>5848</th>\n",
       "      <td>MOVIE</td>\n",
       "    </tr>\n",
       "    <tr>\n",
       "      <th>5849</th>\n",
       "      <td>SHOW</td>\n",
       "    </tr>\n",
       "  </tbody>\n",
       "</table>\n",
       "<p>5850 rows × 1 columns</p>\n",
       "</div>"
      ],
      "text/plain": [
       "       type\n",
       "0      SHOW\n",
       "1     MOVIE\n",
       "2     MOVIE\n",
       "3     MOVIE\n",
       "4     MOVIE\n",
       "...     ...\n",
       "5845  MOVIE\n",
       "5846  MOVIE\n",
       "5847  MOVIE\n",
       "5848  MOVIE\n",
       "5849   SHOW\n",
       "\n",
       "[5850 rows x 1 columns]"
      ]
     },
     "execution_count": 117,
     "metadata": {},
     "output_type": "execute_result"
    }
   ],
   "source": [
    "Y"
   ]
  },
  {
   "cell_type": "code",
   "execution_count": 118,
   "metadata": {},
   "outputs": [
    {
     "data": {
      "text/html": [
       "<div>\n",
       "<style scoped>\n",
       "    .dataframe tbody tr th:only-of-type {\n",
       "        vertical-align: middle;\n",
       "    }\n",
       "\n",
       "    .dataframe tbody tr th {\n",
       "        vertical-align: top;\n",
       "    }\n",
       "\n",
       "    .dataframe thead th {\n",
       "        text-align: right;\n",
       "    }\n",
       "</style>\n",
       "<table border=\"1\" class=\"dataframe\">\n",
       "  <thead>\n",
       "    <tr style=\"text-align: right;\">\n",
       "      <th></th>\n",
       "      <th>release_year</th>\n",
       "      <th>runtime</th>\n",
       "      <th>genres</th>\n",
       "      <th>production_countries</th>\n",
       "      <th>imdb_score</th>\n",
       "      <th>imdb_votes</th>\n",
       "      <th>tmdb_popularity</th>\n",
       "      <th>tmdb_score</th>\n",
       "    </tr>\n",
       "  </thead>\n",
       "  <tbody>\n",
       "    <tr>\n",
       "      <th>4862</th>\n",
       "      <td>0.987013</td>\n",
       "      <td>0.093</td>\n",
       "      <td>3</td>\n",
       "      <td>-0.296613</td>\n",
       "      <td>7.300000</td>\n",
       "      <td>17779.0</td>\n",
       "      <td>-0.141690</td>\n",
       "      <td>7.500000</td>\n",
       "    </tr>\n",
       "    <tr>\n",
       "      <th>3268</th>\n",
       "      <td>0.974026</td>\n",
       "      <td>0.034</td>\n",
       "      <td>3</td>\n",
       "      <td>-0.296613</td>\n",
       "      <td>6.510861</td>\n",
       "      <td>2819.0</td>\n",
       "      <td>1.226896</td>\n",
       "      <td>6.829175</td>\n",
       "    </tr>\n",
       "    <tr>\n",
       "      <th>5718</th>\n",
       "      <td>1.000000</td>\n",
       "      <td>0.060</td>\n",
       "      <td>3</td>\n",
       "      <td>-0.296613</td>\n",
       "      <td>9.600000</td>\n",
       "      <td>17779.0</td>\n",
       "      <td>-0.233243</td>\n",
       "      <td>10.000000</td>\n",
       "    </tr>\n",
       "    <tr>\n",
       "      <th>3384</th>\n",
       "      <td>0.974026</td>\n",
       "      <td>0.024</td>\n",
       "      <td>3</td>\n",
       "      <td>1.616491</td>\n",
       "      <td>6.510861</td>\n",
       "      <td>2819.0</td>\n",
       "      <td>-0.187584</td>\n",
       "      <td>6.829175</td>\n",
       "    </tr>\n",
       "    <tr>\n",
       "      <th>113</th>\n",
       "      <td>0.688312</td>\n",
       "      <td>0.119</td>\n",
       "      <td>1</td>\n",
       "      <td>-0.296613</td>\n",
       "      <td>5.900000</td>\n",
       "      <td>5.0</td>\n",
       "      <td>-0.011278</td>\n",
       "      <td>6.200000</td>\n",
       "    </tr>\n",
       "    <tr>\n",
       "      <th>...</th>\n",
       "      <td>...</td>\n",
       "      <td>...</td>\n",
       "      <td>...</td>\n",
       "      <td>...</td>\n",
       "      <td>...</td>\n",
       "      <td>...</td>\n",
       "      <td>...</td>\n",
       "      <td>...</td>\n",
       "    </tr>\n",
       "    <tr>\n",
       "      <th>3772</th>\n",
       "      <td>0.961039</td>\n",
       "      <td>0.097</td>\n",
       "      <td>3</td>\n",
       "      <td>-0.296613</td>\n",
       "      <td>6.510861</td>\n",
       "      <td>2819.0</td>\n",
       "      <td>-0.243794</td>\n",
       "      <td>7.500000</td>\n",
       "    </tr>\n",
       "    <tr>\n",
       "      <th>5191</th>\n",
       "      <td>0.987013</td>\n",
       "      <td>0.085</td>\n",
       "      <td>3</td>\n",
       "      <td>3.529594</td>\n",
       "      <td>7.300000</td>\n",
       "      <td>17779.0</td>\n",
       "      <td>0.481333</td>\n",
       "      <td>7.500000</td>\n",
       "    </tr>\n",
       "    <tr>\n",
       "      <th>5226</th>\n",
       "      <td>0.987013</td>\n",
       "      <td>0.089</td>\n",
       "      <td>3</td>\n",
       "      <td>-0.296613</td>\n",
       "      <td>7.300000</td>\n",
       "      <td>17779.0</td>\n",
       "      <td>0.729385</td>\n",
       "      <td>7.500000</td>\n",
       "    </tr>\n",
       "    <tr>\n",
       "      <th>5390</th>\n",
       "      <td>0.987013</td>\n",
       "      <td>0.000</td>\n",
       "      <td>3</td>\n",
       "      <td>-0.296613</td>\n",
       "      <td>7.300000</td>\n",
       "      <td>17779.0</td>\n",
       "      <td>-0.270782</td>\n",
       "      <td>7.500000</td>\n",
       "    </tr>\n",
       "    <tr>\n",
       "      <th>860</th>\n",
       "      <td>0.896104</td>\n",
       "      <td>0.043</td>\n",
       "      <td>1</td>\n",
       "      <td>-0.296613</td>\n",
       "      <td>5.900000</td>\n",
       "      <td>5.0</td>\n",
       "      <td>0.066182</td>\n",
       "      <td>6.200000</td>\n",
       "    </tr>\n",
       "  </tbody>\n",
       "</table>\n",
       "<p>4680 rows × 8 columns</p>\n",
       "</div>"
      ],
      "text/plain": [
       "      release_year  runtime  genres  production_countries  imdb_score   \n",
       "4862      0.987013    0.093       3             -0.296613    7.300000  \\\n",
       "3268      0.974026    0.034       3             -0.296613    6.510861   \n",
       "5718      1.000000    0.060       3             -0.296613    9.600000   \n",
       "3384      0.974026    0.024       3              1.616491    6.510861   \n",
       "113       0.688312    0.119       1             -0.296613    5.900000   \n",
       "...            ...      ...     ...                   ...         ...   \n",
       "3772      0.961039    0.097       3             -0.296613    6.510861   \n",
       "5191      0.987013    0.085       3              3.529594    7.300000   \n",
       "5226      0.987013    0.089       3             -0.296613    7.300000   \n",
       "5390      0.987013    0.000       3             -0.296613    7.300000   \n",
       "860       0.896104    0.043       1             -0.296613    5.900000   \n",
       "\n",
       "      imdb_votes  tmdb_popularity  tmdb_score  \n",
       "4862     17779.0        -0.141690    7.500000  \n",
       "3268      2819.0         1.226896    6.829175  \n",
       "5718     17779.0        -0.233243   10.000000  \n",
       "3384      2819.0        -0.187584    6.829175  \n",
       "113          5.0        -0.011278    6.200000  \n",
       "...          ...              ...         ...  \n",
       "3772      2819.0        -0.243794    7.500000  \n",
       "5191     17779.0         0.481333    7.500000  \n",
       "5226     17779.0         0.729385    7.500000  \n",
       "5390     17779.0        -0.270782    7.500000  \n",
       "860          5.0         0.066182    6.200000  \n",
       "\n",
       "[4680 rows x 8 columns]"
      ]
     },
     "execution_count": 118,
     "metadata": {},
     "output_type": "execute_result"
    }
   ],
   "source": [
    "X_train"
   ]
  },
  {
   "cell_type": "code",
   "execution_count": 119,
   "metadata": {
    "tags": []
   },
   "outputs": [
    {
     "data": {
      "text/html": [
       "<div>\n",
       "<style scoped>\n",
       "    .dataframe tbody tr th:only-of-type {\n",
       "        vertical-align: middle;\n",
       "    }\n",
       "\n",
       "    .dataframe tbody tr th {\n",
       "        vertical-align: top;\n",
       "    }\n",
       "\n",
       "    .dataframe thead th {\n",
       "        text-align: right;\n",
       "    }\n",
       "</style>\n",
       "<table border=\"1\" class=\"dataframe\">\n",
       "  <thead>\n",
       "    <tr style=\"text-align: right;\">\n",
       "      <th></th>\n",
       "      <th>type</th>\n",
       "    </tr>\n",
       "  </thead>\n",
       "  <tbody>\n",
       "    <tr>\n",
       "      <th>4862</th>\n",
       "      <td>MOVIE</td>\n",
       "    </tr>\n",
       "    <tr>\n",
       "      <th>3268</th>\n",
       "      <td>SHOW</td>\n",
       "    </tr>\n",
       "    <tr>\n",
       "      <th>5718</th>\n",
       "      <td>MOVIE</td>\n",
       "    </tr>\n",
       "    <tr>\n",
       "      <th>3384</th>\n",
       "      <td>SHOW</td>\n",
       "    </tr>\n",
       "    <tr>\n",
       "      <th>113</th>\n",
       "      <td>MOVIE</td>\n",
       "    </tr>\n",
       "    <tr>\n",
       "      <th>...</th>\n",
       "      <td>...</td>\n",
       "    </tr>\n",
       "    <tr>\n",
       "      <th>3772</th>\n",
       "      <td>MOVIE</td>\n",
       "    </tr>\n",
       "    <tr>\n",
       "      <th>5191</th>\n",
       "      <td>MOVIE</td>\n",
       "    </tr>\n",
       "    <tr>\n",
       "      <th>5226</th>\n",
       "      <td>MOVIE</td>\n",
       "    </tr>\n",
       "    <tr>\n",
       "      <th>5390</th>\n",
       "      <td>SHOW</td>\n",
       "    </tr>\n",
       "    <tr>\n",
       "      <th>860</th>\n",
       "      <td>SHOW</td>\n",
       "    </tr>\n",
       "  </tbody>\n",
       "</table>\n",
       "<p>4680 rows × 1 columns</p>\n",
       "</div>"
      ],
      "text/plain": [
       "       type\n",
       "4862  MOVIE\n",
       "3268   SHOW\n",
       "5718  MOVIE\n",
       "3384   SHOW\n",
       "113   MOVIE\n",
       "...     ...\n",
       "3772  MOVIE\n",
       "5191  MOVIE\n",
       "5226  MOVIE\n",
       "5390   SHOW\n",
       "860    SHOW\n",
       "\n",
       "[4680 rows x 1 columns]"
      ]
     },
     "execution_count": 119,
     "metadata": {},
     "output_type": "execute_result"
    }
   ],
   "source": [
    "y_train"
   ]
  },
  {
   "cell_type": "code",
   "execution_count": 120,
   "metadata": {},
   "outputs": [
    {
     "data": {
      "text/plain": [
       "type \n",
       "MOVIE    764\n",
       "SHOW     406\n",
       "Name: count, dtype: int64"
      ]
     },
     "execution_count": 120,
     "metadata": {},
     "output_type": "execute_result"
    }
   ],
   "source": [
    "y_test.value_counts()"
   ]
  },
  {
   "cell_type": "code",
   "execution_count": 121,
   "metadata": {},
   "outputs": [
    {
     "data": {
      "text/html": [
       "<style>#sk-container-id-7 {color: black;background-color: white;}#sk-container-id-7 pre{padding: 0;}#sk-container-id-7 div.sk-toggleable {background-color: white;}#sk-container-id-7 label.sk-toggleable__label {cursor: pointer;display: block;width: 100%;margin-bottom: 0;padding: 0.3em;box-sizing: border-box;text-align: center;}#sk-container-id-7 label.sk-toggleable__label-arrow:before {content: \"▸\";float: left;margin-right: 0.25em;color: #696969;}#sk-container-id-7 label.sk-toggleable__label-arrow:hover:before {color: black;}#sk-container-id-7 div.sk-estimator:hover label.sk-toggleable__label-arrow:before {color: black;}#sk-container-id-7 div.sk-toggleable__content {max-height: 0;max-width: 0;overflow: hidden;text-align: left;background-color: #f0f8ff;}#sk-container-id-7 div.sk-toggleable__content pre {margin: 0.2em;color: black;border-radius: 0.25em;background-color: #f0f8ff;}#sk-container-id-7 input.sk-toggleable__control:checked~div.sk-toggleable__content {max-height: 200px;max-width: 100%;overflow: auto;}#sk-container-id-7 input.sk-toggleable__control:checked~label.sk-toggleable__label-arrow:before {content: \"▾\";}#sk-container-id-7 div.sk-estimator input.sk-toggleable__control:checked~label.sk-toggleable__label {background-color: #d4ebff;}#sk-container-id-7 div.sk-label input.sk-toggleable__control:checked~label.sk-toggleable__label {background-color: #d4ebff;}#sk-container-id-7 input.sk-hidden--visually {border: 0;clip: rect(1px 1px 1px 1px);clip: rect(1px, 1px, 1px, 1px);height: 1px;margin: -1px;overflow: hidden;padding: 0;position: absolute;width: 1px;}#sk-container-id-7 div.sk-estimator {font-family: monospace;background-color: #f0f8ff;border: 1px dotted black;border-radius: 0.25em;box-sizing: border-box;margin-bottom: 0.5em;}#sk-container-id-7 div.sk-estimator:hover {background-color: #d4ebff;}#sk-container-id-7 div.sk-parallel-item::after {content: \"\";width: 100%;border-bottom: 1px solid gray;flex-grow: 1;}#sk-container-id-7 div.sk-label:hover label.sk-toggleable__label {background-color: #d4ebff;}#sk-container-id-7 div.sk-serial::before {content: \"\";position: absolute;border-left: 1px solid gray;box-sizing: border-box;top: 0;bottom: 0;left: 50%;z-index: 0;}#sk-container-id-7 div.sk-serial {display: flex;flex-direction: column;align-items: center;background-color: white;padding-right: 0.2em;padding-left: 0.2em;position: relative;}#sk-container-id-7 div.sk-item {position: relative;z-index: 1;}#sk-container-id-7 div.sk-parallel {display: flex;align-items: stretch;justify-content: center;background-color: white;position: relative;}#sk-container-id-7 div.sk-item::before, #sk-container-id-7 div.sk-parallel-item::before {content: \"\";position: absolute;border-left: 1px solid gray;box-sizing: border-box;top: 0;bottom: 0;left: 50%;z-index: -1;}#sk-container-id-7 div.sk-parallel-item {display: flex;flex-direction: column;z-index: 1;position: relative;background-color: white;}#sk-container-id-7 div.sk-parallel-item:first-child::after {align-self: flex-end;width: 50%;}#sk-container-id-7 div.sk-parallel-item:last-child::after {align-self: flex-start;width: 50%;}#sk-container-id-7 div.sk-parallel-item:only-child::after {width: 0;}#sk-container-id-7 div.sk-dashed-wrapped {border: 1px dashed gray;margin: 0 0.4em 0.5em 0.4em;box-sizing: border-box;padding-bottom: 0.4em;background-color: white;}#sk-container-id-7 div.sk-label label {font-family: monospace;font-weight: bold;display: inline-block;line-height: 1.2em;}#sk-container-id-7 div.sk-label-container {text-align: center;}#sk-container-id-7 div.sk-container {/* jupyter's `normalize.less` sets `[hidden] { display: none; }` but bootstrap.min.css set `[hidden] { display: none !important; }` so we also need the `!important` here to be able to override the default hidden behavior on the sphinx rendered scikit-learn.org. See: https://github.com/scikit-learn/scikit-learn/issues/21755 */display: inline-block !important;position: relative;}#sk-container-id-7 div.sk-text-repr-fallback {display: none;}</style><div id=\"sk-container-id-7\" class=\"sk-top-container\"><div class=\"sk-text-repr-fallback\"><pre>DecisionTreeClassifier(max_depth=2, random_state=42)</pre><b>In a Jupyter environment, please rerun this cell to show the HTML representation or trust the notebook. <br />On GitHub, the HTML representation is unable to render, please try loading this page with nbviewer.org.</b></div><div class=\"sk-container\" hidden><div class=\"sk-item\"><div class=\"sk-estimator sk-toggleable\"><input class=\"sk-toggleable__control sk-hidden--visually\" id=\"sk-estimator-id-7\" type=\"checkbox\" checked><label for=\"sk-estimator-id-7\" class=\"sk-toggleable__label sk-toggleable__label-arrow\">DecisionTreeClassifier</label><div class=\"sk-toggleable__content\"><pre>DecisionTreeClassifier(max_depth=2, random_state=42)</pre></div></div></div></div></div>"
      ],
      "text/plain": [
       "DecisionTreeClassifier(max_depth=2, random_state=42)"
      ]
     },
     "execution_count": 121,
     "metadata": {},
     "output_type": "execute_result"
    }
   ],
   "source": [
    "# creating DecisionTree\n",
    "clf_pre = DecisionTreeClassifier(max_depth=2,random_state=42)\n",
    "clf_pre.fit(X_train, y_train)"
   ]
  },
  {
   "cell_type": "code",
   "execution_count": 122,
   "metadata": {},
   "outputs": [
    {
     "data": {
      "image/png": "[encoded data removed]",
      "text/plain": [
       "<Figure size 1200x800 with 1 Axes>"
      ]
     },
     "metadata": {},
     "output_type": "display_data"
    }
   ],
   "source": [
    "#plot of DecisionTree\n",
    "plt.figure(figsize=(12,8))\n",
    "plot_tree(clf_pre, filled=True, feature_names=X.columns, class_names=df['type'].unique())\n",
    "plt.show()"
   ]
  },
  {
   "cell_type": "code",
   "execution_count": 123,
   "metadata": {},
   "outputs": [
    {
     "name": "stdout",
     "output_type": "stream",
     "text": [
      "Accuracy with pre-pruning: 0.8965811965811966\n"
     ]
    }
   ],
   "source": [
    "y_pred_pre = clf_pre.predict(X_test)\n",
    "accuracy_pre = accuracy_score(y_test, y_pred_pre)\n",
    "print('Accuracy with pre-pruning:', accuracy_pre)"
   ]
  },
  {
   "cell_type": "code",
   "execution_count": 124,
   "metadata": {},
   "outputs": [
    {
     "name": "stdout",
     "output_type": "stream",
     "text": [
      "precision_score with pre-pruning: 0.8836338260844798\n"
     ]
    }
   ],
   "source": [
    "precision_pre = precision_score(y_test,y_pred_pre,average='macro')\n",
    "print('precision_score with pre-pruning:', precision_pre)\n",
    "#כמה מתוך הריקול הצליח לדייק "
   ]
  },
  {
   "cell_type": "code",
   "execution_count": 125,
   "metadata": {},
   "outputs": [
    {
     "name": "stdout",
     "output_type": "stream",
     "text": [
      "confudion matrix score is: [[695  69]\n",
      " [ 52 354]]\n",
      "Confusion matrix, without normalization\n",
      "[[695  69]\n",
      " [ 52 354]]\n",
      "Normalized confusion matrix\n",
      "[[0.90968586 0.09031414]\n",
      " [0.12807882 0.87192118]]\n"
     ]
    },
    {
     "data": {
      "image/png": "[encoded data removed]",
      "text/plain": [
       "<Figure size 640x480 with 2 Axes>"
      ]
     },
     "metadata": {},
     "output_type": "display_data"
    },
    {
     "data": {
      "image/png": "[encoded data removed]",
      "text/plain": [
       "<Figure size 640x480 with 2 Axes>"
      ]
     },
     "metadata": {},
     "output_type": "display_data"
    }
   ],
   "source": [
    "confusin_pre = confusion_matrix(y_test,y_pred_pre)\n",
    "print('confudion matrix score is:',confusin_pre)\n",
    "\n",
    "\n",
    "titles_options = [\n",
    "    (\"Confusion matrix, without normalization\", None),\n",
    "    (\"Normalized confusion matrix\", \"true\"),\n",
    "]\n",
    "for title, normalize in titles_options:\n",
    "    disp = ConfusionMatrixDisplay.from_estimator(\n",
    "        clf_pre,\n",
    "        X_test,\n",
    "        y_test,\n",
    "        display_labels=class_names,\n",
    "        cmap=plt.cm.Blues,\n",
    "        normalize=normalize,\n",
    "    )\n",
    "    disp.ax_.set_title(title)\n",
    "\n",
    "    print(title)\n",
    "    print(disp.confusion_matrix)\n",
    "\n",
    "plt.show()"
   ]
  },
  {
   "cell_type": "code",
   "execution_count": 126,
   "metadata": {},
   "outputs": [
    {
     "name": "stdout",
     "output_type": "stream",
     "text": [
      "recall score is: 0.8908035230701777\n"
     ]
    }
   ],
   "source": [
    "recall = recall_score(y_test,y_pred_pre,average='macro')\n",
    "print(f'recall score is: {recall}')\n",
    "#בכמה מהמבחן הצלחנו להצליח ולפגוע "
   ]
  },
  {
   "cell_type": "code",
   "execution_count": 127,
   "metadata": {},
   "outputs": [
    {
     "name": "stdout",
     "output_type": "stream",
     "text": [
      "f_measure score is: 0.8869807978323816\n"
     ]
    }
   ],
   "source": [
    "F_measure = f1_score(y_test,y_pred_pre,average='macro')\n",
    "print('f_measure score is:',F_measure)\n",
    "#ממוצע של הריקול ולפריסיזן"
   ]
  },
  {
   "cell_type": "code",
   "execution_count": 128,
   "metadata": {},
   "outputs": [
    {
     "name": "stdout",
     "output_type": "stream",
     "text": [
      "              precision    recall  f1-score   support\n",
      "\n",
      "       MOVIE       0.93      0.91      0.92       764\n",
      "        SHOW       0.84      0.87      0.85       406\n",
      "\n",
      "    accuracy                           0.90      1170\n",
      "   macro avg       0.88      0.89      0.89      1170\n",
      "weighted avg       0.90      0.90      0.90      1170\n",
      "\n"
     ]
    }
   ],
   "source": [
    "print(classification_report(y_test,y_pred_pre))"
   ]
  },
  {
   "attachments": {},
   "cell_type": "markdown",
   "metadata": {},
   "source": [
    "feature importance"
   ]
  },
  {
   "cell_type": "code",
   "execution_count": 129,
   "metadata": {},
   "outputs": [
    {
     "data": {
      "image/png": "[encoded data removed]",
      "text/plain": [
       "<Figure size 1200x800 with 1 Axes>"
      ]
     },
     "metadata": {},
     "output_type": "display_data"
    }
   ],
   "source": [
    "importance_clf = clf_pre.feature_importances_\n",
    "\n",
    "indices = np.argsort(importance_clf)[::-1]\n",
    "\n",
    "plt.figure(figsize=(12,8))\n",
    "plt.bar(range(X_train.shape[1]),importance_clf[indices])\n",
    "plt.xticks(range(X_train.shape[1]),X_train.columns[indices],rotation=90)\n",
    "plt.xlabel('Feature')\n",
    "plt.ylabel('Importance')\n",
    "plt.title('Feature Importance in DecisionTreeClassifier')\n",
    "plt.show()\n"
   ]
  },
  {
   "attachments": {},
   "cell_type": "markdown",
   "metadata": {},
   "source": [
    "random forest model"
   ]
  },
  {
   "cell_type": "code",
   "execution_count": 130,
   "metadata": {},
   "outputs": [],
   "source": [
    "X_rf = df.iloc[:,1:]\n",
    "Y_rf = df.iloc[:,:1]\n",
    "class_names = ['MOVIE','SHOW']\n",
    "X_rf_train, X_rf_test, y_rf_train, y_rf_test = train_test_split(X_rf, Y_rf, test_size=0.2,random_state=42)\n"
   ]
  },
  {
   "cell_type": "code",
   "execution_count": 131,
   "metadata": {},
   "outputs": [
    {
     "name": "stderr",
     "output_type": "stream",
     "text": [
      "/var/folders/sh/3c77gz0j55vb45wgw4_kj4xr0000gn/T/ipykernel_56402/988167688.py:2: DataConversionWarning: A column-vector y was passed when a 1d array was expected. Please change the shape of y to (n_samples,), for example using ravel().\n",
      "  Rf_pre.fit(X_rf_train,y_rf_train)\n"
     ]
    },
    {
     "data": {
      "text/html": [
       "<style>#sk-container-id-8 {color: black;background-color: white;}#sk-container-id-8 pre{padding: 0;}#sk-container-id-8 div.sk-toggleable {background-color: white;}#sk-container-id-8 label.sk-toggleable__label {cursor: pointer;display: block;width: 100%;margin-bottom: 0;padding: 0.3em;box-sizing: border-box;text-align: center;}#sk-container-id-8 label.sk-toggleable__label-arrow:before {content: \"▸\";float: left;margin-right: 0.25em;color: #696969;}#sk-container-id-8 label.sk-toggleable__label-arrow:hover:before {color: black;}#sk-container-id-8 div.sk-estimator:hover label.sk-toggleable__label-arrow:before {color: black;}#sk-container-id-8 div.sk-toggleable__content {max-height: 0;max-width: 0;overflow: hidden;text-align: left;background-color: #f0f8ff;}#sk-container-id-8 div.sk-toggleable__content pre {margin: 0.2em;color: black;border-radius: 0.25em;background-color: #f0f8ff;}#sk-container-id-8 input.sk-toggleable__control:checked~div.sk-toggleable__content {max-height: 200px;max-width: 100%;overflow: auto;}#sk-container-id-8 input.sk-toggleable__control:checked~label.sk-toggleable__label-arrow:before {content: \"▾\";}#sk-container-id-8 div.sk-estimator input.sk-toggleable__control:checked~label.sk-toggleable__label {background-color: #d4ebff;}#sk-container-id-8 div.sk-label input.sk-toggleable__control:checked~label.sk-toggleable__label {background-color: #d4ebff;}#sk-container-id-8 input.sk-hidden--visually {border: 0;clip: rect(1px 1px 1px 1px);clip: rect(1px, 1px, 1px, 1px);height: 1px;margin: -1px;overflow: hidden;padding: 0;position: absolute;width: 1px;}#sk-container-id-8 div.sk-estimator {font-family: monospace;background-color: #f0f8ff;border: 1px dotted black;border-radius: 0.25em;box-sizing: border-box;margin-bottom: 0.5em;}#sk-container-id-8 div.sk-estimator:hover {background-color: #d4ebff;}#sk-container-id-8 div.sk-parallel-item::after {content: \"\";width: 100%;border-bottom: 1px solid gray;flex-grow: 1;}#sk-container-id-8 div.sk-label:hover label.sk-toggleable__label {background-color: #d4ebff;}#sk-container-id-8 div.sk-serial::before {content: \"\";position: absolute;border-left: 1px solid gray;box-sizing: border-box;top: 0;bottom: 0;left: 50%;z-index: 0;}#sk-container-id-8 div.sk-serial {display: flex;flex-direction: column;align-items: center;background-color: white;padding-right: 0.2em;padding-left: 0.2em;position: relative;}#sk-container-id-8 div.sk-item {position: relative;z-index: 1;}#sk-container-id-8 div.sk-parallel {display: flex;align-items: stretch;justify-content: center;background-color: white;position: relative;}#sk-container-id-8 div.sk-item::before, #sk-container-id-8 div.sk-parallel-item::before {content: \"\";position: absolute;border-left: 1px solid gray;box-sizing: border-box;top: 0;bottom: 0;left: 50%;z-index: -1;}#sk-container-id-8 div.sk-parallel-item {display: flex;flex-direction: column;z-index: 1;position: relative;background-color: white;}#sk-container-id-8 div.sk-parallel-item:first-child::after {align-self: flex-end;width: 50%;}#sk-container-id-8 div.sk-parallel-item:last-child::after {align-self: flex-start;width: 50%;}#sk-container-id-8 div.sk-parallel-item:only-child::after {width: 0;}#sk-container-id-8 div.sk-dashed-wrapped {border: 1px dashed gray;margin: 0 0.4em 0.5em 0.4em;box-sizing: border-box;padding-bottom: 0.4em;background-color: white;}#sk-container-id-8 div.sk-label label {font-family: monospace;font-weight: bold;display: inline-block;line-height: 1.2em;}#sk-container-id-8 div.sk-label-container {text-align: center;}#sk-container-id-8 div.sk-container {/* jupyter's `normalize.less` sets `[hidden] { display: none; }` but bootstrap.min.css set `[hidden] { display: none !important; }` so we also need the `!important` here to be able to override the default hidden behavior on the sphinx rendered scikit-learn.org. See: https://github.com/scikit-learn/scikit-learn/issues/21755 */display: inline-block !important;position: relative;}#sk-container-id-8 div.sk-text-repr-fallback {display: none;}</style><div id=\"sk-container-id-8\" class=\"sk-top-container\"><div class=\"sk-text-repr-fallback\"><pre>RandomForestClassifier(max_depth=2, random_state=42)</pre><b>In a Jupyter environment, please rerun this cell to show the HTML representation or trust the notebook. <br />On GitHub, the HTML representation is unable to render, please try loading this page with nbviewer.org.</b></div><div class=\"sk-container\" hidden><div class=\"sk-item\"><div class=\"sk-estimator sk-toggleable\"><input class=\"sk-toggleable__control sk-hidden--visually\" id=\"sk-estimator-id-8\" type=\"checkbox\" checked><label for=\"sk-estimator-id-8\" class=\"sk-toggleable__label sk-toggleable__label-arrow\">RandomForestClassifier</label><div class=\"sk-toggleable__content\"><pre>RandomForestClassifier(max_depth=2, random_state=42)</pre></div></div></div></div></div>"
      ],
      "text/plain": [
       "RandomForestClassifier(max_depth=2, random_state=42)"
      ]
     },
     "execution_count": 131,
     "metadata": {},
     "output_type": "execute_result"
    }
   ],
   "source": [
    "Rf_pre = RandomForestClassifier(max_depth=2,random_state=42)\n",
    "Rf_pre.fit(X_rf_train,y_rf_train)"
   ]
  },
  {
   "attachments": {},
   "cell_type": "markdown",
   "metadata": {},
   "source": [
    "find accuracy"
   ]
  },
  {
   "cell_type": "code",
   "execution_count": 132,
   "metadata": {},
   "outputs": [
    {
     "name": "stdout",
     "output_type": "stream",
     "text": [
      "Accuracy with pre-pruning: 0.9051282051282051\n"
     ]
    }
   ],
   "source": [
    "y_rf_pred_pre = Rf_pre.predict(X_rf_test)\n",
    "accuracy_pre = accuracy_score(y_rf_test, y_rf_pred_pre)\n",
    "print('Accuracy with pre-pruning:', accuracy_pre)"
   ]
  },
  {
   "attachments": {},
   "cell_type": "markdown",
   "metadata": {},
   "source": [
    "find precision_score"
   ]
  },
  {
   "cell_type": "code",
   "execution_count": 133,
   "metadata": {},
   "outputs": [
    {
     "name": "stdout",
     "output_type": "stream",
     "text": [
      "precision_score with pre-pruning: 0.8942253255331194\n"
     ]
    }
   ],
   "source": [
    "precision_rf_pre = precision_score(y_rf_test,y_rf_pred_pre,average='macro')\n",
    "print('precision_score with pre-pruning:', precision_rf_pre)"
   ]
  },
  {
   "attachments": {},
   "cell_type": "markdown",
   "metadata": {},
   "source": [
    "find confusion_matrix"
   ]
  },
  {
   "cell_type": "code",
   "execution_count": 134,
   "metadata": {},
   "outputs": [
    {
     "name": "stdout",
     "output_type": "stream",
     "text": [
      "confudion matrix score is: [[705  59]\n",
      " [ 52 354]]\n",
      "Confusion matrix, without normalization\n",
      "[[705  59]\n",
      " [ 52 354]]\n",
      "Normalized confusion matrix\n",
      "[[0.92277487 0.07722513]\n",
      " [0.12807882 0.87192118]]\n"
     ]
    },
    {
     "data": {
      "image/png": "[encoded data removed]",
      "text/plain": [
       "<Figure size 640x480 with 2 Axes>"
      ]
     },
     "metadata": {},
     "output_type": "display_data"
    },
    {
     "data": {
      "image/png": "[encoded data removed]",
      "text/plain": [
       "<Figure size 640x480 with 2 Axes>"
      ]
     },
     "metadata": {},
     "output_type": "display_data"
    }
   ],
   "source": [
    "confusin_rf_pre = confusion_matrix(y_rf_test,y_rf_pred_pre)\n",
    "print('confudion matrix score is:',confusin_rf_pre)\n",
    "\n",
    "\n",
    "titles_options = [\n",
    "    (\"Confusion matrix, without normalization\", None),\n",
    "    (\"Normalized confusion matrix\", \"true\"),\n",
    "]\n",
    "for title, normalize in titles_options:\n",
    "    disp = ConfusionMatrixDisplay.from_estimator(\n",
    "        Rf_pre,\n",
    "        X_rf_test,\n",
    "        y_rf_test,\n",
    "        display_labels=class_names,\n",
    "        cmap=plt.cm.Blues,\n",
    "        normalize=normalize,\n",
    "    )\n",
    "    disp.ax_.set_title(title)\n",
    "\n",
    "    print(title)\n",
    "    print(disp.confusion_matrix)\n",
    "\n",
    "plt.show()"
   ]
  },
  {
   "attachments": {},
   "cell_type": "markdown",
   "metadata": {},
   "source": [
    "find recall score"
   ]
  },
  {
   "cell_type": "code",
   "execution_count": 135,
   "metadata": {},
   "outputs": [
    {
     "name": "stdout",
     "output_type": "stream",
     "text": [
      "recall score is: 0.8973480256879788\n"
     ]
    }
   ],
   "source": [
    "recall_rf = recall_score(y_rf_test,y_rf_pred_pre,average='macro')\n",
    "print(f'recall score is: {recall_rf}')"
   ]
  },
  {
   "attachments": {},
   "cell_type": "markdown",
   "metadata": {},
   "source": [
    "find f1_score"
   ]
  },
  {
   "cell_type": "code",
   "execution_count": 136,
   "metadata": {},
   "outputs": [
    {
     "name": "stdout",
     "output_type": "stream",
     "text": [
      "f_measure score is: 0.8957452803606649\n"
     ]
    }
   ],
   "source": [
    "F_rf_measure = f1_score(y_rf_test,y_rf_pred_pre,average='macro')\n",
    "print('f_measure score is:',F_rf_measure)"
   ]
  },
  {
   "attachments": {},
   "cell_type": "markdown",
   "metadata": {},
   "source": [
    "classification report"
   ]
  },
  {
   "cell_type": "code",
   "execution_count": 137,
   "metadata": {},
   "outputs": [
    {
     "name": "stdout",
     "output_type": "stream",
     "text": [
      "              precision    recall  f1-score   support\n",
      "\n",
      "       MOVIE       0.93      0.92      0.93       764\n",
      "        SHOW       0.86      0.87      0.86       406\n",
      "\n",
      "    accuracy                           0.91      1170\n",
      "   macro avg       0.89      0.90      0.90      1170\n",
      "weighted avg       0.91      0.91      0.91      1170\n",
      "\n"
     ]
    }
   ],
   "source": [
    "\n",
    "print(classification_report(y_rf_test,y_rf_pred_pre))"
   ]
  },
  {
   "attachments": {},
   "cell_type": "markdown",
   "metadata": {},
   "source": [
    "download file"
   ]
  },
  {
   "cell_type": "code",
   "execution_count": 138,
   "metadata": {},
   "outputs": [
    {
     "data": {
      "image/png": "[encoded data removed]",
      "text/plain": [
       "<Figure size 1200x800 with 1 Axes>"
      ]
     },
     "metadata": {},
     "output_type": "display_data"
    }
   ],
   "source": [
    "importance_clf = Rf_pre.feature_importances_\n",
    "\n",
    "indices = np.argsort(importance_clf)[::-1]\n",
    "\n",
    "plt.figure(figsize=(12,8))\n",
    "plt.bar(range(X_rf_train.shape[1]),importance_clf[indices])\n",
    "plt.xticks(range(X_rf_train.shape[1]),X_rf_train.columns[indices],rotation=90)\n",
    "plt.xlabel('Feature')\n",
    "plt.ylabel('Importance')\n",
    "plt.title('Feature Importance in DecisionTreeClassifier')\n",
    "plt.show()"
   ]
  },
  {
   "cell_type": "code",
   "execution_count": 139,
   "metadata": {},
   "outputs": [],
   "source": [
    "# df.to_csv('/Users/jonatanbuga/Desktop/software engineering/2st year/כריית נתונים/FinalProject/titles_model_discationTree2.csv', index=False, encoding='utf-8-sig')\n"
   ]
  },
  {
   "attachments": {},
   "cell_type": "markdown",
   "metadata": {},
   "source": [
    "KNN model"
   ]
  },
  {
   "attachments": {},
   "cell_type": "markdown",
   "metadata": {},
   "source": [
    "split data to train test"
   ]
  },
  {
   "cell_type": "code",
   "execution_count": 140,
   "metadata": {},
   "outputs": [],
   "source": [
    "X_knn = df.iloc[:,1:]\n",
    "Y_knn = df.iloc[:,:1]\n",
    "class_names = ['MOVIE','SHOW']\n",
    "X_knn_train, X_knn_test, y_knn_train, y_knn_test = train_test_split(X_knn, Y_knn, test_size=0.2,random_state=42)"
   ]
  },
  {
   "cell_type": "code",
   "execution_count": 141,
   "metadata": {},
   "outputs": [
    {
     "name": "stderr",
     "output_type": "stream",
     "text": [
      "/Library/Frameworks/Python.framework/Versions/3.10/lib/python3.10/site-packages/sklearn/neighbors/_classification.py:215: DataConversionWarning: A column-vector y was passed when a 1d array was expected. Please change the shape of y to (n_samples,), for example using ravel().\n",
      "  return self._fit(X, y)\n"
     ]
    },
    {
     "data": {
      "text/html": [
       "<style>#sk-container-id-9 {color: black;background-color: white;}#sk-container-id-9 pre{padding: 0;}#sk-container-id-9 div.sk-toggleable {background-color: white;}#sk-container-id-9 label.sk-toggleable__label {cursor: pointer;display: block;width: 100%;margin-bottom: 0;padding: 0.3em;box-sizing: border-box;text-align: center;}#sk-container-id-9 label.sk-toggleable__label-arrow:before {content: \"▸\";float: left;margin-right: 0.25em;color: #696969;}#sk-container-id-9 label.sk-toggleable__label-arrow:hover:before {color: black;}#sk-container-id-9 div.sk-estimator:hover label.sk-toggleable__label-arrow:before {color: black;}#sk-container-id-9 div.sk-toggleable__content {max-height: 0;max-width: 0;overflow: hidden;text-align: left;background-color: #f0f8ff;}#sk-container-id-9 div.sk-toggleable__content pre {margin: 0.2em;color: black;border-radius: 0.25em;background-color: #f0f8ff;}#sk-container-id-9 input.sk-toggleable__control:checked~div.sk-toggleable__content {max-height: 200px;max-width: 100%;overflow: auto;}#sk-container-id-9 input.sk-toggleable__control:checked~label.sk-toggleable__label-arrow:before {content: \"▾\";}#sk-container-id-9 div.sk-estimator input.sk-toggleable__control:checked~label.sk-toggleable__label {background-color: #d4ebff;}#sk-container-id-9 div.sk-label input.sk-toggleable__control:checked~label.sk-toggleable__label {background-color: #d4ebff;}#sk-container-id-9 input.sk-hidden--visually {border: 0;clip: rect(1px 1px 1px 1px);clip: rect(1px, 1px, 1px, 1px);height: 1px;margin: -1px;overflow: hidden;padding: 0;position: absolute;width: 1px;}#sk-container-id-9 div.sk-estimator {font-family: monospace;background-color: #f0f8ff;border: 1px dotted black;border-radius: 0.25em;box-sizing: border-box;margin-bottom: 0.5em;}#sk-container-id-9 div.sk-estimator:hover {background-color: #d4ebff;}#sk-container-id-9 div.sk-parallel-item::after {content: \"\";width: 100%;border-bottom: 1px solid gray;flex-grow: 1;}#sk-container-id-9 div.sk-label:hover label.sk-toggleable__label {background-color: #d4ebff;}#sk-container-id-9 div.sk-serial::before {content: \"\";position: absolute;border-left: 1px solid gray;box-sizing: border-box;top: 0;bottom: 0;left: 50%;z-index: 0;}#sk-container-id-9 div.sk-serial {display: flex;flex-direction: column;align-items: center;background-color: white;padding-right: 0.2em;padding-left: 0.2em;position: relative;}#sk-container-id-9 div.sk-item {position: relative;z-index: 1;}#sk-container-id-9 div.sk-parallel {display: flex;align-items: stretch;justify-content: center;background-color: white;position: relative;}#sk-container-id-9 div.sk-item::before, #sk-container-id-9 div.sk-parallel-item::before {content: \"\";position: absolute;border-left: 1px solid gray;box-sizing: border-box;top: 0;bottom: 0;left: 50%;z-index: -1;}#sk-container-id-9 div.sk-parallel-item {display: flex;flex-direction: column;z-index: 1;position: relative;background-color: white;}#sk-container-id-9 div.sk-parallel-item:first-child::after {align-self: flex-end;width: 50%;}#sk-container-id-9 div.sk-parallel-item:last-child::after {align-self: flex-start;width: 50%;}#sk-container-id-9 div.sk-parallel-item:only-child::after {width: 0;}#sk-container-id-9 div.sk-dashed-wrapped {border: 1px dashed gray;margin: 0 0.4em 0.5em 0.4em;box-sizing: border-box;padding-bottom: 0.4em;background-color: white;}#sk-container-id-9 div.sk-label label {font-family: monospace;font-weight: bold;display: inline-block;line-height: 1.2em;}#sk-container-id-9 div.sk-label-container {text-align: center;}#sk-container-id-9 div.sk-container {/* jupyter's `normalize.less` sets `[hidden] { display: none; }` but bootstrap.min.css set `[hidden] { display: none !important; }` so we also need the `!important` here to be able to override the default hidden behavior on the sphinx rendered scikit-learn.org. See: https://github.com/scikit-learn/scikit-learn/issues/21755 */display: inline-block !important;position: relative;}#sk-container-id-9 div.sk-text-repr-fallback {display: none;}</style><div id=\"sk-container-id-9\" class=\"sk-top-container\"><div class=\"sk-text-repr-fallback\"><pre>KNeighborsClassifier()</pre><b>In a Jupyter environment, please rerun this cell to show the HTML representation or trust the notebook. <br />On GitHub, the HTML representation is unable to render, please try loading this page with nbviewer.org.</b></div><div class=\"sk-container\" hidden><div class=\"sk-item\"><div class=\"sk-estimator sk-toggleable\"><input class=\"sk-toggleable__control sk-hidden--visually\" id=\"sk-estimator-id-9\" type=\"checkbox\" checked><label for=\"sk-estimator-id-9\" class=\"sk-toggleable__label sk-toggleable__label-arrow\">KNeighborsClassifier</label><div class=\"sk-toggleable__content\"><pre>KNeighborsClassifier()</pre></div></div></div></div></div>"
      ],
      "text/plain": [
       "KNeighborsClassifier()"
      ]
     },
     "execution_count": 141,
     "metadata": {},
     "output_type": "execute_result"
    }
   ],
   "source": [
    "knn_pre= KNeighborsClassifier(n_neighbors=5, metric='minkowski', p=2 )  \n",
    "knn_pre.fit(X_knn_train, y_knn_train) "
   ]
  },
  {
   "attachments": {},
   "cell_type": "markdown",
   "metadata": {},
   "source": [
    "predict result"
   ]
  },
  {
   "cell_type": "code",
   "execution_count": 142,
   "metadata": {},
   "outputs": [],
   "source": [
    "y_knn_train_pred = knn_pre.predict(X_knn_train)\n",
    "y_knn_test_pred = knn_pre.predict(X_knn_test)"
   ]
  },
  {
   "cell_type": "code",
   "execution_count": 143,
   "metadata": {},
   "outputs": [
    {
     "name": "stdout",
     "output_type": "stream",
     "text": [
      "Accuracy with pre-pruning: 0.9051282051282051\n"
     ]
    }
   ],
   "source": [
    "y_knn_pred_pre = knn_pre.predict(X_knn_test)\n",
    "accuracy_knn_pre = accuracy_score(y_knn_test, y_knn_pred_pre)\n",
    "print('Accuracy with pre-pruning:', accuracy_pre)"
   ]
  },
  {
   "cell_type": "code",
   "execution_count": 144,
   "metadata": {},
   "outputs": [
    {
     "name": "stdout",
     "output_type": "stream",
     "text": [
      "precision_score with pre-pruning: 0.8798076923076923\n"
     ]
    }
   ],
   "source": [
    "precision_knn_pre = precision_score(y_knn_test,y_knn_pred_pre,average='macro')\n",
    "print('precision_score with pre-pruning:', precision_knn_pre)"
   ]
  },
  {
   "cell_type": "code",
   "execution_count": 145,
   "metadata": {},
   "outputs": [
    {
     "name": "stdout",
     "output_type": "stream",
     "text": [
      "confudion matrix score is: [[696  68]\n",
      " [ 58 348]]\n",
      "Confusion matrix, without normalization\n",
      "[[696  68]\n",
      " [ 58 348]]\n",
      "Normalized confusion matrix\n",
      "[[0.91099476 0.08900524]\n",
      " [0.14285714 0.85714286]]\n"
     ]
    },
    {
     "data": {
      "image/png": "[encoded data removed]",
      "text/plain": [
       "<Figure size 640x480 with 2 Axes>"
      ]
     },
     "metadata": {},
     "output_type": "display_data"
    },
    {
     "data": {
      "image/png": "[encoded data removed]",
      "text/plain": [
       "<Figure size 640x480 with 2 Axes>"
      ]
     },
     "metadata": {},
     "output_type": "display_data"
    }
   ],
   "source": [
    "confusin_knn_pre = confusion_matrix(y_knn_test,y_knn_pred_pre)\n",
    "print('confudion matrix score is:',confusin_knn_pre)\n",
    "\n",
    "\n",
    "titles_options = [\n",
    "    (\"Confusion matrix, without normalization\", None),\n",
    "    (\"Normalized confusion matrix\", \"true\"),\n",
    "]\n",
    "for title, normalize in titles_options:\n",
    "    disp = ConfusionMatrixDisplay.from_estimator(\n",
    "        knn_pre,\n",
    "        X_knn_test,\n",
    "        y_knn_test,\n",
    "        display_labels=class_names,\n",
    "        cmap=plt.cm.Blues,\n",
    "        normalize=normalize,\n",
    "    )\n",
    "    disp.ax_.set_title(title)\n",
    "\n",
    "    print(title)\n",
    "    print(disp.confusion_matrix)\n",
    "\n",
    "plt.show()"
   ]
  },
  {
   "cell_type": "code",
   "execution_count": 146,
   "metadata": {},
   "outputs": [
    {
     "name": "stdout",
     "output_type": "stream",
     "text": [
      "recall score is: 0.8840688107703814\n"
     ]
    }
   ],
   "source": [
    "recall_knn = recall_score(y_knn_test,y_knn_pred_pre,average='macro')\n",
    "print(f'recall score is: {recall_knn}')"
   ]
  },
  {
   "cell_type": "code",
   "execution_count": 147,
   "metadata": {},
   "outputs": [
    {
     "name": "stdout",
     "output_type": "stream",
     "text": [
      "f_measure score is: 0.8818556879489916\n"
     ]
    }
   ],
   "source": [
    "F_knn_measure = f1_score(y_knn_test,y_knn_pred_pre,average='macro')\n",
    "print('f_measure score is:',F_knn_measure)"
   ]
  },
  {
   "cell_type": "code",
   "execution_count": 148,
   "metadata": {},
   "outputs": [
    {
     "name": "stdout",
     "output_type": "stream",
     "text": [
      "              precision    recall  f1-score   support\n",
      "\n",
      "       MOVIE       0.92      0.91      0.92       764\n",
      "        SHOW       0.84      0.86      0.85       406\n",
      "\n",
      "    accuracy                           0.89      1170\n",
      "   macro avg       0.88      0.88      0.88      1170\n",
      "weighted avg       0.89      0.89      0.89      1170\n",
      "\n"
     ]
    }
   ],
   "source": [
    "print(classification_report(y_knn_test,y_knn_pred_pre))"
   ]
  },
  {
   "attachments": {},
   "cell_type": "markdown",
   "metadata": {},
   "source": [
    "download file"
   ]
  },
  {
   "cell_type": "code",
   "execution_count": 149,
   "metadata": {},
   "outputs": [],
   "source": [
    "# df.to_csv('/Users/jonatanbuga/Desktop/software engineering/2st year/כריית נתונים/FinalProject/titles_model_knn1.csv', index=False, encoding='utf-8-sig')\n"
   ]
  },
  {
   "attachments": {},
   "cell_type": "markdown",
   "metadata": {},
   "source": [
    "k-means cluster"
   ]
  },
  {
   "cell_type": "code",
   "execution_count": 155,
   "metadata": {},
   "outputs": [],
   "source": [
    "def showEvaluationMeasures(my_test,my_pred):\n",
    "    accuracy_kmeans_pre = accuracy_score(my_test,my_pred)\n",
    "    result = classification_report(my_test,my_pred)\n",
    "    conf = confusion_matrix(my_test,my_pred)\n",
    "\n",
    "    print(f\"accuracy for k-means :{accuracy_kmeans_pre}\\n\")\n",
    "    print(f\"confution matrix is :{conf}\\n\")\n",
    "    print(f\"result:{result}\")\n",
    "    \n",
    "\n"
   ]
  },
  {
   "cell_type": "code",
   "execution_count": 156,
   "metadata": {},
   "outputs": [
    {
     "name": "stderr",
     "output_type": "stream",
     "text": [
      "/Library/Frameworks/Python.framework/Versions/3.10/lib/python3.10/site-packages/sklearn/cluster/_kmeans.py:870: FutureWarning: The default value of `n_init` will change from 10 to 'auto' in 1.4. Set the value of `n_init` explicitly to suppress the warning\n",
      "  warnings.warn(\n",
      "/Library/Frameworks/Python.framework/Versions/3.10/lib/python3.10/site-packages/sklearn/cluster/_kmeans.py:870: FutureWarning: The default value of `n_init` will change from 10 to 'auto' in 1.4. Set the value of `n_init` explicitly to suppress the warning\n",
      "  warnings.warn(\n"
     ]
    },
    {
     "name": "stdout",
     "output_type": "stream",
     "text": [
      "train set evaluation:\n",
      "\n",
      "accuracy for k-means :0.3638888888888889\n",
      "\n",
      "confution matrix is :[[1699    1]\n",
      " [2976    4]]\n",
      "\n",
      "result:              precision    recall  f1-score   support\n",
      "\n",
      "           0       0.36      1.00      0.53      1700\n",
      "           1       0.80      0.00      0.00      2980\n",
      "\n",
      "    accuracy                           0.36      4680\n",
      "   macro avg       0.58      0.50      0.27      4680\n",
      "weighted avg       0.64      0.36      0.20      4680\n",
      "\n",
      "train set evaluation:\n",
      "\n",
      "accuracy for k-means :0.3487179487179487\n",
      "\n",
      "confution matrix is :[[406   0]\n",
      " [762   2]]\n",
      "\n",
      "result:              precision    recall  f1-score   support\n",
      "\n",
      "           0       0.35      1.00      0.52       406\n",
      "           1       1.00      0.00      0.01       764\n",
      "\n",
      "    accuracy                           0.35      1170\n",
      "   macro avg       0.67      0.50      0.26      1170\n",
      "weighted avg       0.77      0.35      0.18      1170\n",
      "\n"
     ]
    }
   ],
   "source": [
    "\n",
    "# Convert column values to binary (0 and 1)\n",
    "column_values_test = []\n",
    "for val in y_test['type']:\n",
    "    if val == 'MOVIE':\n",
    "        column_values_test.append(1)\n",
    "    else:\n",
    "        column_values_test.append(0)\n",
    "column_values_train = []\n",
    "for val in y_train['type']:\n",
    "    if val == 'MOVIE':\n",
    "        column_values_train.append(1)\n",
    "    else:\n",
    "        column_values_train.append(0)\n",
    "# Reshape the data to have a single feature (required for K-means)\n",
    "column_values_test = np.array(column_values_test).reshape(-1, 1)\n",
    "column_values_train = np.array(column_values_train).reshape(-1, 1)\n",
    "# Apply K-means clustering\n",
    "kmeans = KMeans(n_clusters=2, random_state=42 ,max_iter=100)\n",
    "kmeans.fit(X_train)\n",
    "\n",
    "X_train['Kmeans_cluster'] = kmeans.labels_\n",
    "X_train['real value'] = column_values_train\n",
    "\n",
    "print(\"train set evaluation:\\n\")\n",
    "showEvaluationMeasures(X_train['real value'],X_train['Kmeans_cluster'])\n",
    "\n",
    "kmeans.fit(X_test)\n",
    "\n",
    "X_test['Kmeans_cluster'] = kmeans.labels_\n",
    "X_test['real value'] = column_values_test\n",
    "\n",
    "print(\"train set evaluation:\\n\")\n",
    "showEvaluationMeasures(X_test['real value'],X_test['Kmeans_cluster'])\n",
    "\n",
    "\n",
    "\n",
    "\n",
    "\n"
   ]
  }
 ],
 "metadata": {
  "kernelspec": {
   "display_name": "Python 3",
   "language": "python",
   "name": "python3"
  },
  "language_info": {
   "codemirror_mode": {
    "name": "ipython",
    "version": 3
   },
   "file_extension": ".py",
   "mimetype": "text/x-python",
   "name": "python",
   "nbconvert_exporter": "python",
   "pygments_lexer": "ipython3",
   "version": "3.10.10"
  },
  "orig_nbformat": 4
 },
 "nbformat": 4,
 "nbformat_minor": 2
}
